{
 "cells": [
  {
   "cell_type": "code",
   "execution_count": 2,
   "metadata": {},
   "outputs": [
    {
     "name": "stdout",
     "output_type": "stream",
     "text": [
      "GPU: NVIDIA GeForce RTX 2070 SUPER is available.\n"
     ]
    }
   ],
   "source": [
    "import torch\n",
    "if torch.cuda.is_available():\n",
    "    print(f\"GPU: {torch.cuda.get_device_name(0)} is available.\")\n",
    "else:\n",
    "    print(\"No GPU available. Training will run on CPU.\")\n",
    "    \n",
    "device = torch.device(\"cuda\" if torch.cuda.is_available() else \"cpu\")"
   ]
  },
  {
   "cell_type": "code",
   "execution_count": 16,
   "metadata": {},
   "outputs": [],
   "source": [
    "from transformers import AutoTokenizer, AutoModelForCausalLM\n",
    "from transformers import pipeline\n",
    "\n",
    "# TinyLlama/TinyLlama-1.1B-intermediate-step-1431k-3T\n",
    "# TinyLlama/TinyLlama-1.1B-Chat-v1.0\n",
    "model_name = \"TinyLlama/TinyLlama-1.1B-Chat-v1.0\"\n",
    "\n",
    "\n",
    "tokenizer = AutoTokenizer.from_pretrained(model_name)\n",
    "model = AutoModelForCausalLM.from_pretrained(model_name).to(device)\n",
    "\n",
    "\n",
    "pipe = pipeline(\"text-generation\", model=model, tokenizer=tokenizer, device=device)\n"
   ]
  },
  {
   "cell_type": "code",
   "execution_count": 26,
   "metadata": {},
   "outputs": [],
   "source": [
    "messages = [\n",
    "    {\"role\": \"user\", \"content\": \"Do you want to build snowman?\"}\n",
    "]\n",
    "generated_text = pipe(messages)[0]['generated_text']"
   ]
  },
  {
   "cell_type": "code",
   "execution_count": 29,
   "metadata": {},
   "outputs": [
    {
     "name": "stdout",
     "output_type": "stream",
     "text": [
      "Yes, I want to build snowman!\n"
     ]
    }
   ],
   "source": [
    "print(generated_text[-1]['content'])"
   ]
  },
  {
   "cell_type": "markdown",
   "metadata": {},
   "source": [
    "RAG\n",
    "\n",
    "![image.png](MarkDownImage//RAG.png)"
   ]
  },
  {
   "cell_type": "code",
   "execution_count": 5,
   "metadata": {},
   "outputs": [],
   "source": [
    "import os\n",
    "from langchain.embeddings import HuggingFaceEmbeddings\n",
    "from langchain.vectorstores  import Chroma\n",
    "from langchain.prompts import PromptTemplate\n",
    "from langchain_community.document_loaders import PyPDFLoader\n",
    "from langchain_core.prompts import ChatPromptTemplate\n",
    "\n",
    "model_kwargs = {'device': 'cuda'}\n",
    "embedding_model_name = \"sentence-transformers/all-MiniLM-L6-v2\"\n",
    "embedding = HuggingFaceEmbeddings(\n",
    "    model_name=embedding_model_name,\n",
    "    model_kwargs=model_kwargs\n",
    "    )\n",
    "    \n",
    "\n",
    "pdf_folder = \"documents/\"\n",
    "\n",
    "pdf_files = [f for f in os.listdir(pdf_folder) if f.endswith('.pdf')]\n",
    "\n",
    "documents = []\n",
    "\n",
    "for pdf_file in pdf_files:\n",
    "    document = os.path.join(pdf_folder, pdf_file)\n",
    "    pdf_loader = PyPDFLoader(document)\n",
    "    documents.extend(pdf_loader.load())\n",
    "    \n",
    "vectordb= Chroma.from_documents(\n",
    "    documents, \n",
    "    embedding,\n",
    "    persist_directory=\"./knowledge-base\"\n",
    ")"
   ]
  },
  {
   "cell_type": "code",
   "execution_count": 39,
   "metadata": {},
   "outputs": [
    {
     "name": "stderr",
     "output_type": "stream",
     "text": [
      "Token indices sequence length is longer than the specified maximum sequence length for this model (2499 > 2048). Running this sequence through the model will result in indexing errors\n",
      "This is a friendly reminder - the current text generation call will exceed the model's predefined maximum length (2048). Depending on the model, you may observe exceptions, performance degradation, or nothing at all.\n"
     ]
    }
   ],
   "source": [
    "def retrieve_documents(query, num_results=1):\n",
    "    query_embedding = embedding.embed_query(query)\n",
    "    results = vectordb.similarity_search_by_vector(query_embedding, k=num_results)\n",
    "    retrieved_docs = [result.page_content for result in results]\n",
    "    return retrieved_docs\n",
    "\n",
    "def generate_answer(query, retrieved_docs):\n",
    "    \n",
    "    documents_text = \"\\n\".join(retrieved_docs)\n",
    "    \n",
    "    prompt = f\"\"\"\n",
    "    Given the following documents, answer the user's question as accurately as possible:\n",
    "\n",
    "    Documents:\n",
    "    {documents_text}\n",
    "\n",
    "    Question:\n",
    "    {query}\n",
    "\n",
    "    Answer:\n",
    "    \"\"\"\n",
    "\n",
    "    result = pipe(prompt, max_new_tokens=128, num_return_sequences=1)\n",
    "    answer = result[0]['generated_text']\n",
    "    \n",
    "    return answer\n",
    "\n",
    "\n",
    "def process_query(query, num_results=1):\n",
    "\n",
    "    retrieved_docs = retrieve_documents(query, num_results=num_results)\n",
    "    \n",
    "    answer = generate_answer(query, retrieved_docs)\n",
    "    \n",
    "    return answer\n",
    "\n",
    "query = \"What are the main findings of the research?\"\n",
    "answer = process_query(query)\n",
    "print(answer)"
   ]
  }
 ],
 "metadata": {
  "kernelspec": {
   "display_name": "kuwa",
   "language": "python",
   "name": "python3"
  },
  "language_info": {
   "codemirror_mode": {
    "name": "ipython",
    "version": 3
   },
   "file_extension": ".py",
   "mimetype": "text/x-python",
   "name": "python",
   "nbconvert_exporter": "python",
   "pygments_lexer": "ipython3",
   "version": "3.9.19"
  }
 },
 "nbformat": 4,
 "nbformat_minor": 2
}
