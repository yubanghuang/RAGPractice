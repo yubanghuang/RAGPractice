{
 "cells": [
  {
   "cell_type": "code",
   "execution_count": 1,
   "metadata": {},
   "outputs": [
    {
     "name": "stdout",
     "output_type": "stream",
     "text": [
      "GPU: NVIDIA GeForce RTX 2070 SUPER is available.\n"
     ]
    }
   ],
   "source": [
    "import torch\n",
    "if torch.cuda.is_available():\n",
    "    print(f\"GPU: {torch.cuda.get_device_name(0)} is available.\")\n",
    "else:\n",
    "    print(\"No GPU available. Training will run on CPU.\")\n",
    "device = torch.device(\"cuda\" if torch.cuda.is_available() else \"cpu\")"
   ]
  },
  {
   "cell_type": "code",
   "execution_count": 2,
   "metadata": {},
   "outputs": [
    {
     "name": "stderr",
     "output_type": "stream",
     "text": [
      "d:\\anaconda3\\envs\\llm-env\\lib\\site-packages\\tqdm\\auto.py:21: TqdmWarning: IProgress not found. Please update jupyter and ipywidgets. See https://ipywidgets.readthedocs.io/en/stable/user_install.html\n",
      "  from .autonotebook import tqdm as notebook_tqdm\n"
     ]
    }
   ],
   "source": [
    "import torch\n",
    "from transformers import AutoTokenizer, AutoModelForCausalLM\n",
    "from transformers import pipeline\n",
    "\n",
    "# TinyLlama/TinyLlama-1.1B-intermediate-step-1431k-3T\n",
    "# TinyLlama/TinyLlama-1.1B-Chat-v1.0\n",
    "model_name = \"TinyLlama/TinyLlama-1.1B-Chat-v1.0\"\n",
    "\n",
    "\n",
    "tokenizer = AutoTokenizer.from_pretrained(model_name)\n",
    "model = AutoModelForCausalLM.from_pretrained(model_name).to(device)\n",
    "\n",
    "\n",
    "pipe = pipeline(\"text-generation\", model=model, tokenizer=tokenizer, device=device)\n"
   ]
  },
  {
   "cell_type": "code",
   "execution_count": 3,
   "metadata": {},
   "outputs": [],
   "source": [
    "# prompt 樣板設定測試\n",
    "messages = [\n",
    "    {   \"role\": \"user\", \n",
    "        \"content\": \"Do you know what is the Monoploy?\"\n",
    "    }\n",
    "]\n",
    "# 設定 prompt 樣板，方便觀察輸出\n"
   ]
  },
  {
   "cell_type": "code",
   "execution_count": 4,
   "metadata": {},
   "outputs": [
    {
     "name": "stdout",
     "output_type": "stream",
     "text": [
      "Yes, the Monoploy is a board game that was released in 1959 by Hasbro, Inc. It is a classic game that has been played by people of all ages for decades. The game is a two-player game that involves stacking cubes on a board. Each player takes turns moving their cubes up the board, trying to get them to the top of the tower at the end of the game. The first player to reach the top wins the game. The game can be played with a variety of different themes and variations, making it a versatile and fun game for people of all ages.\n"
     ]
    }
   ],
   "source": [
    "outputs = pipe(messages, max_new_tokens=256, do_sample=True, temperature=0.7, top_k=50, top_p=0.95)\n",
    "outputs = outputs[0][\"generated_text\"]\n",
    "assistant_reply = next((msg[\"content\"] for msg in outputs if msg[\"role\"] == \"assistant\"), \"\")\n",
    "print(assistant_reply)"
   ]
  },
  {
   "cell_type": "code",
   "execution_count": 5,
   "metadata": {},
   "outputs": [
    {
     "name": "stdout",
     "output_type": "stream",
     "text": [
      "<|user|>\n",
      "Do you know what is the Monoploy?</s>\n",
      "<|assistant|>\n",
      "Yes, the Monoploy is a board game that was released in 1959 by Hasbro, Inc. It is a classic game that has been played by people of all ages for decades. The game is a two-player game that involves stacking cubes on a board. Each player takes turns moving their cubes up the board, trying to get them to the top of the tower at the end of the game. The first player to reach the top wins the game. The game can be played with a variety of different themes and variations, making it a versatile and fun game for people of all ages.</s>\n",
      "\n"
     ]
    }
   ],
   "source": [
    "# 設定 prompt 樣板，方便觀察輸出\n",
    "chat_history = pipe.tokenizer.apply_chat_template(outputs, tokenize=False, add_generation_prompt=False)\n",
    "print(chat_history)"
   ]
  },
  {
   "cell_type": "markdown",
   "metadata": {},
   "source": [
    "RAG\n",
    "\n",
    "![image.png](MarkDownImage\\RAG.png)"
   ]
  },
  {
   "cell_type": "code",
   "execution_count": 6,
   "metadata": {},
   "outputs": [
    {
     "name": "stderr",
     "output_type": "stream",
     "text": [
      "Ignoring wrong pointing object 8 0 (offset 0)\n",
      "Ignoring wrong pointing object 12 0 (offset 0)\n",
      "Ignoring wrong pointing object 14 0 (offset 0)\n",
      "Ignoring wrong pointing object 34 0 (offset 0)\n"
     ]
    }
   ],
   "source": [
    "import os\n",
    "from langchain_huggingface import HuggingFaceEmbeddings\n",
    "from langchain.vectorstores  import Chroma\n",
    "from langchain.prompts import PromptTemplate\n",
    "from langchain_community.document_loaders import PyPDFLoader\n",
    "from langchain_core.prompts import ChatPromptTemplate\n",
    "\n",
    "model_kwargs = {'device': 'cuda'}\n",
    "embedding_model_name = \"sentence-transformers/all-MiniLM-L6-v2\"\n",
    "embedding = HuggingFaceEmbeddings(\n",
    "    model_name=embedding_model_name,\n",
    "    model_kwargs=model_kwargs\n",
    "    )\n",
    "    \n",
    "\n",
    "pdf_folder = \"documents/\"\n",
    "\n",
    "pdf_files = [f for f in os.listdir(pdf_folder) if f.endswith('.pdf')]\n",
    "\n",
    "documents = []\n",
    "\n",
    "for pdf_file in pdf_files:\n",
    "    document = os.path.join(pdf_folder, pdf_file)\n",
    "    pdf_loader = PyPDFLoader(document)\n",
    "    documents.extend(pdf_loader.load())\n"
   ]
  },
  {
   "cell_type": "code",
   "execution_count": 7,
   "metadata": {},
   "outputs": [],
   "source": [
    "vectordb= Chroma.from_documents(\n",
    "    documents, \n",
    "    embedding,\n",
    "    persist_directory=\"./knowledge-base\"\n",
    ")"
   ]
  },
  {
   "cell_type": "code",
   "execution_count": 8,
   "metadata": {},
   "outputs": [],
   "source": [
    "def retrieve_documents(query, num_results=1):\n",
    "    query_embedding = embedding.embed_query(query)\n",
    "    results = vectordb.similarity_search_by_vector(query_embedding, k=num_results)\n",
    "    retrieved_docs = [result.page_content for result in results]\n",
    "    return retrieved_docs\n",
    "\n",
    "def generate_answer(query, retrieved_docs):\n",
    "    \n",
    "    retrieved_docs_text = \"\\n\".join(retrieved_docs)\n",
    "    \n",
    "    content = f\"\"\"\n",
    "You're a professional assistant\n",
    "Given the following documents, answer the user's question as accurately as possible:\n",
    "\n",
    "Documents:\n",
    "{retrieved_docs_text}\n",
    "\n",
    "Question:\n",
    "{query}\n",
    "\"\"\"\n",
    "    messages = [\n",
    "        {   \"role\": \"system\", \n",
    "            \"content\": content,\n",
    "        }\n",
    "    ]\n",
    "    result = pipe(messages, max_new_tokens=256, do_sample=True, temperature=0.7, top_k=50, top_p=0.95)\n",
    "    outputs = result[0]['generated_text']\n",
    "    \n",
    "    assistant_reply = next((msg[\"content\"] for msg in outputs if msg[\"role\"] == \"assistant\"), \"\")\n",
    "    \n",
    "    return assistant_reply, retrieved_docs_text\n",
    "\n",
    "\n",
    "def process_query(query, num_results=1):\n",
    "\n",
    "    retrieved_docs = retrieve_documents(query, num_results=num_results)\n",
    "    answer, retrieved_docs_text = generate_answer(query, retrieved_docs)\n",
    "    \n",
    "    return answer, retrieved_docs_text\n"
   ]
  },
  {
   "cell_type": "code",
   "execution_count": 10,
   "metadata": {},
   "outputs": [
    {
     "name": "stdout",
     "output_type": "stream",
     "text": [
      "According to the given documents, a common side effect of oxaliplatin-based chemotherapy for colorectal cancer is feeling tired. This side effect can be more severe during the treatment period and may last for a short time. If this side effect persists or worsens, it should be reported to the medical team and treated as a medical emergency. The patient should not drive or operate machinery while experiencing fatigue, as it can be dangerous. In rare cases, laryngeal spasm, which can cause difficulty swallowing and breathing, can occur during treatment. If this side effect persists or worsens, it should be reported to the medical team and treated as a medical emergency. The patient should take long, deep breaths through their nose to help their breathing return to normal.\n"
     ]
    }
   ],
   "source": [
    "query = \"Do you know what is the colon cancer?\"\n",
    "answer, retrieved_docs_text = process_query(query)\n",
    "print(answer)"
   ]
  }
 ],
 "metadata": {
  "kernelspec": {
   "display_name": "kuwa",
   "language": "python",
   "name": "python3"
  },
  "language_info": {
   "codemirror_mode": {
    "name": "ipython",
    "version": 3
   },
   "file_extension": ".py",
   "mimetype": "text/x-python",
   "name": "python",
   "nbconvert_exporter": "python",
   "pygments_lexer": "ipython3",
   "version": "3.9.19"
  }
 },
 "nbformat": 4,
 "nbformat_minor": 2
}
