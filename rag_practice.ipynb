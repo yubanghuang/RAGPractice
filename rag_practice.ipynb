{
 "cells": [
  {
   "cell_type": "code",
   "execution_count": 1,
   "metadata": {},
   "outputs": [
    {
     "name": "stdout",
     "output_type": "stream",
     "text": [
      "GPU: NVIDIA GeForce RTX 2070 SUPER is available.\n"
     ]
    }
   ],
   "source": [
    "import torch\n",
    "if torch.cuda.is_available():\n",
    "    print(f\"GPU: {torch.cuda.get_device_name(0)} is available.\")\n",
    "else:\n",
    "    print(\"No GPU available. Training will run on CPU.\")\n",
    "device = torch.device(\"cuda\" if torch.cuda.is_available() else \"cpu\")"
   ]
  },
  {
   "cell_type": "code",
   "execution_count": null,
   "metadata": {},
   "outputs": [],
   "source": [
    "import torch\n",
    "from transformers import AutoTokenizer, AutoModelForCausalLM\n",
    "from transformers import pipeline\n",
    "\n",
    "# TinyLlama/TinyLlama-1.1B-intermediate-step-1431k-3T\n",
    "# TinyLlama/TinyLlama-1.1B-Chat-v1.0\n",
    "# 載入 HuggingFace 上的模型\n",
    "model_name = \"TinyLlama/TinyLlama-1.1B-Chat-v1.0\"\n",
    "\n",
    "\n",
    "tokenizer = AutoTokenizer.from_pretrained(model_name)\n",
    "model = AutoModelForCausalLM.from_pretrained(model_name).to(device)\n",
    "\n",
    "\n",
    "pipe = pipeline(\"text-generation\", model=model, tokenizer=tokenizer, device=device)"
   ]
  },
  {
   "cell_type": "code",
   "execution_count": 8,
   "metadata": {},
   "outputs": [
    {
     "name": "stdout",
     "output_type": "stream",
     "text": [
      "<|user|>\n",
      "Do you know what is the Monoploy?</s>\n",
      "<|assistant|>\n",
      "Yes, the Monoploy is a term used in marketing to refer to a single product or service that offers a unique selling proposition (USP) that is different from its competitors. The Monoploy is often created as a way to differentiate a brand from the competition, which helps to create a loyal customer base and increase market share. The term has been applied to various products and services, including products such as Apple's iPad, Nike's Air Jordan sneakers, and Amazon's Kindle e-readers.</s>\n",
      "\n"
     ]
    }
   ],
   "source": [
    "# prompt 樣板設定測試\n",
    "messages = [\n",
    "    {   \"role\": \"user\", \n",
    "        \"content\": \"Do you know what is the Monoploy?\"\n",
    "    }\n",
    "]\n",
    "\n",
    "outputs = pipe(messages, max_new_tokens=256, do_sample=True, temperature=0.7, top_k=50, top_p=0.95)\n",
    "outputs = outputs[0][\"generated_text\"]\n",
    "# 設定 prompt 樣板，方便觀察輸出\n",
    "chat_history = pipe.tokenizer.apply_chat_template(outputs, tokenize=False, add_generation_prompt=False)\n",
    "print(chat_history)"
   ]
  },
  {
   "cell_type": "markdown",
   "metadata": {},
   "source": [
    "RAG\n",
    "\n",
    "![image.png](MarkDownImage\\RAG.png)"
   ]
  },
  {
   "cell_type": "code",
   "execution_count": 4,
   "metadata": {},
   "outputs": [],
   "source": [
    "import os\n",
    "from langchain_huggingface import HuggingFaceEmbeddings\n",
    "from langchain.vectorstores  import Chroma\n",
    "from langchain.prompts import PromptTemplate\n",
    "from langchain_community.document_loaders import PyPDFLoader\n",
    "from langchain_core.prompts import ChatPromptTemplate\n",
    "\n",
    "model_kwargs = {'device': 'cuda'}\n",
    "embedding_model_name = \"sentence-transformers/all-MiniLM-L6-v2\"\n",
    "embedding = HuggingFaceEmbeddings(\n",
    "    model_name=embedding_model_name,\n",
    "    model_kwargs=model_kwargs\n",
    "    )\n",
    "    \n",
    "\n",
    "pdf_folder = \"documents/monopoly\"\n",
    "\n",
    "pdf_files = [f for f in os.listdir(pdf_folder) if f.endswith('.pdf')]\n",
    "\n",
    "documents = []\n",
    "\n",
    "for pdf_file in pdf_files:\n",
    "    document = os.path.join(pdf_folder, pdf_file)\n",
    "    pdf_loader = PyPDFLoader(document)\n",
    "    documents.extend(pdf_loader.load())\n"
   ]
  },
  {
   "cell_type": "code",
   "execution_count": 5,
   "metadata": {},
   "outputs": [],
   "source": [
    "vectordb= Chroma.from_documents(\n",
    "    documents, \n",
    "    embedding,\n",
    "    persist_directory=\"./knowledge-base\"\n",
    ")"
   ]
  },
  {
   "cell_type": "code",
   "execution_count": 6,
   "metadata": {},
   "outputs": [],
   "source": [
    "def retrieve_documents(query, num_results=1):\n",
    "    query_embedding = embedding.embed_query(query)\n",
    "    results = vectordb.similarity_search_by_vector(query_embedding, k=num_results)\n",
    "    retrieved_docs = [result.page_content for result in results]\n",
    "    return retrieved_docs\n",
    "\n",
    "def generate_answer(query, retrieved_docs):\n",
    "    \n",
    "    retrieved_docs_text = \"\\n\".join(retrieved_docs)\n",
    "    \n",
    "    content = f\"\"\"\n",
    "Given the following documents, answer the user's question as accurately as possible:\n",
    "\n",
    "Documents:\n",
    "{retrieved_docs_text}\n",
    "\n",
    "Question:\n",
    "{query}\n",
    "\"\"\"\n",
    "    messages = [\n",
    "        {   \"role\": \"system\", \n",
    "            \"content\": content,\n",
    "        }\n",
    "    ]\n",
    "    result = pipe(messages, max_new_tokens=256, do_sample=True, temperature=0.7, top_k=50, top_p=0.95)\n",
    "    outputs = result[0]['generated_text']\n",
    "    \n",
    "    assistant_reply = next((msg[\"content\"] for msg in outputs if msg[\"role\"] == \"assistant\"), \"\")\n",
    "    \n",
    "    return assistant_reply, retrieved_docs_text\n",
    "\n",
    "\n",
    "def process_query(query, num_results=1):\n",
    "\n",
    "    retrieved_docs = retrieve_documents(query, num_results=num_results)\n",
    "    answer, retrieved_docs_text = generate_answer(query, retrieved_docs)\n",
    "    \n",
    "    return answer, retrieved_docs_text\n"
   ]
  },
  {
   "cell_type": "code",
   "execution_count": null,
   "metadata": {},
   "outputs": [],
   "source": [
    "query = \"Where the Monopoly start from and what is the rules?\"\n",
    "answer, retrieved_docs_text = process_query(query)"
   ]
  },
  {
   "cell_type": "code",
   "execution_count": 11,
   "metadata": {},
   "outputs": [
    {
     "name": "stdout",
     "output_type": "stream",
     "text": [
      "The Monopoly start from the Banker's corner marked \"Go\" and move in the direction of the arrow. The Banker's token is held on the corner marked \"GO\" when the turn to play passes to the left. Two or more tokens may rest on the same space at the same time, according to the space they reach. The Banker may pay $200 salary to each player who lands on \"GO\" by throw of the dice or draw a card. Players can buy, rent or pay taxes, draw a Chance or Community Chest card, \"Go to Jail\", etc.\n"
     ]
    }
   ],
   "source": [
    "print(answer)"
   ]
  },
  {
   "cell_type": "code",
   "execution_count": 12,
   "metadata": {},
   "outputs": [
    {
     "name": "stdout",
     "output_type": "stream",
     "text": [
      " \n",
      "Monopoly Rules \n",
      " \n",
      "HISTORY… PARKER BROTHERS Real Estate Trading Game MONOPOLY© was invented during the Great Depression by Charles \n",
      "B. Darrow of Germantown Pennsylvania. Mr. Darrow, like. many other Americans, was unemployed at the time and he worked out the \n",
      "details of the game primarily to amuse himself during this period. Prior to the Depression, Darrow and his wife vacationed in the resort \n",
      "town of Atlantic City, New Jersey. When it came to naming the streets on the game board, Darrow naturally adopted those of his favorite \n",
      "vacation spot. \n",
      "The first games were handmade. Darrow gave them to friends and sold a few through a Philadelphia department store. As the demand for \n",
      "the game grew, Darrow could not keep up with the orders and arranged for Parker Brothers to take over the game. \n",
      "Since 1935 when Parker Brothers acquired the rights to the game, it has become the leading proprietary game not only in the United States \n",
      "but throughout the Western world. the game is published under license in twenty&SHY;five countries and in fifteen foreign languages. \n",
      " \n",
      "OBJECT...The object of the game is to become the wealthiest player through buying, renting and selling property. \n",
      " \n",
      "EQUIPMENT...The equipment consists of a board, 2 dice, tokens 32 houses and 12 hotels. There are Chance and Community Chest \n",
      "cards, a Title Deed card for each property and play money. \n",
      " \n",
      "PREPARATION...Place the board on a table and put the Chance and Community Chest cards face-down on their allotted spaces on the \n",
      "board. Each player chooses one token to represent him on his travels around the board. \n",
      " \n",
      "Each player is given $1500 divided as follows: 2 each of $500's, $100's and $50's; 6-$20's; 5 each of $10's, $5's and $1's. \n",
      "All remaining money and other equipment go to the Bank. \n",
      " \n",
      "BANKER...Select as Banker a player who will also make a good Auctioneer. If the Banker plays in the game, he must keep his personal \n",
      "funds separate from those of the Bank. When more than five persons play, the Banker may elect to act only as Banker and Auctioneer. \n",
      " \n",
      "THE BANK...Besides the Bank's money, the Bank holds the Title Deed cards and houses and hotels prior to purchase and use by the \n",
      "players. The Bank pays salaries and bonuses. It sells and auctions properties and hands out their proper Title Deed cards; it sells houses \n",
      "and hotels to the players and loans money when required on mortgages. \n",
      " \n",
      "The Bank collects all taxes, fines, loans and interest, and the price of all properties which it sells and auctions.  \n",
      " \n",
      "The Bank never \"goes broke\". If the Bank runs out of money it may issue as much more as may be needed by merely writing on any \n",
      "ordinary paper. \n",
      " \n",
      "THE PLAY... Starting with the Banker, each player in turn throws the dice. The player with the highest total starts the play. He places his \n",
      "token on the corner marked \"GO\", throws the 2 dice and moves his token in the direction of the arrow the number of spaces indicated by \n",
      "the dice. After he has completed his play, the turn to play passes to the left. The tokens remain on the spaces occupied and proceed from \n",
      "that point on the player's next turn. Two or more tokens may rest on the same space at the same time. \n",
      " \n",
      "According to the space which his token reaches, a player may be entitled to buy real estate or other properties, -or be obliged to pay rent, \n",
      "pay taxes, draw a Chance or Community Chest card, \"Go to Jail\", etc. \n",
      " \n",
      "If a player throws doubles he moves his token as usual the sum of the two dice and is subject to any privileges or penalties pertaining to \n",
      "the space on which he lands. Retaining the dice, he throws again and moves his token as before. If a player throws doubles three times in \n",
      "succession, he moves his token immediately to the space marked \"In Jail\" (see JAIL). \n",
      " \n",
      "\"GO\"...Each time a player's token lands on or passes over \"GO\", whether by throw of the dice or by drawing a card, the Banker pays him \n",
      "$200 salary. \n",
      " \n",
      " \n",
      "___________________________________________________________________________________________________________________________ \n"
     ]
    }
   ],
   "source": [
    "print(retrieved_docs_text)"
   ]
  }
 ],
 "metadata": {
  "kernelspec": {
   "display_name": "kuwa",
   "language": "python",
   "name": "python3"
  },
  "language_info": {
   "codemirror_mode": {
    "name": "ipython",
    "version": 3
   },
   "file_extension": ".py",
   "mimetype": "text/x-python",
   "name": "python",
   "nbconvert_exporter": "python",
   "pygments_lexer": "ipython3",
   "version": "3.9.19"
  }
 },
 "nbformat": 4,
 "nbformat_minor": 2
}
