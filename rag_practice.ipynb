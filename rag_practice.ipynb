{
 "cells": [
  {
   "cell_type": "code",
   "execution_count": 10,
   "metadata": {},
   "outputs": [
    {
     "name": "stdout",
     "output_type": "stream",
     "text": [
      "GPU: NVIDIA GeForce RTX 2070 SUPER is available.\n"
     ]
    }
   ],
   "source": [
    "import torch\n",
    "if torch.cuda.is_available():\n",
    "    print(f\"GPU: {torch.cuda.get_device_name(0)} is available.\")\n",
    "else:\n",
    "    print(\"No GPU available. Training will run on CPU.\")\n",
    "device = torch.device(\"cuda\" if torch.cuda.is_available() else \"cpu\")"
   ]
  },
  {
   "cell_type": "code",
   "execution_count": 11,
   "metadata": {},
   "outputs": [],
   "source": [
    "import torch\n",
    "from transformers import AutoTokenizer, AutoModelForCausalLM\n",
    "from transformers import pipeline\n",
    "\n",
    "# TinyLlama/TinyLlama-1.1B-intermediate-step-1431k-3T\n",
    "# TinyLlama/TinyLlama-1.1B-Chat-v1.0\n",
    "model_name = \"TinyLlama/TinyLlama-1.1B-Chat-v1.0\"\n",
    "\n",
    "\n",
    "tokenizer = AutoTokenizer.from_pretrained(model_name)\n",
    "model = AutoModelForCausalLM.from_pretrained(model_name).to(device)\n",
    "\n",
    "\n",
    "pipe = pipeline(\"text-generation\", model=model, tokenizer=tokenizer, device=device)\n"
   ]
  },
  {
   "cell_type": "code",
   "execution_count": 12,
   "metadata": {},
   "outputs": [],
   "source": [
    "# prompt 樣板設定測試\n",
    "messages = [\n",
    "    {   \"role\": \"user\", \n",
    "        \"content\": \"Do you know what is the Monoploy?\"\n",
    "    }\n",
    "]\n",
    "# 設定 prompt 樣板，方便觀察輸出\n"
   ]
  },
  {
   "cell_type": "code",
   "execution_count": 13,
   "metadata": {},
   "outputs": [
    {
     "name": "stdout",
     "output_type": "stream",
     "text": [
      "Yes, the Monoploy is a board game that has been around since the early 1980s. It is a strategy game in which players try to accumulate a certain number of points by placing and removing cards from a deck, and then scoring points based on their cards. The game is played by two to four players, and it is a popular choice for family gatherings and social games.\n"
     ]
    }
   ],
   "source": [
    "outputs = pipe(messages, max_new_tokens=256, do_sample=True, temperature=0.7, top_k=50, top_p=0.95)\n",
    "outputs = outputs[0][\"generated_text\"]\n",
    "assistant_reply = next((msg[\"content\"] for msg in outputs if msg[\"role\"] == \"assistant\"), \"\")\n",
    "print(assistant_reply)"
   ]
  },
  {
   "cell_type": "code",
   "execution_count": 14,
   "metadata": {},
   "outputs": [
    {
     "name": "stdout",
     "output_type": "stream",
     "text": [
      "<|user|>\n",
      "Do you know what is the Monoploy?</s>\n",
      "<|assistant|>\n",
      "Yes, the Monoploy is a board game that has been around since the early 1980s. It is a strategy game in which players try to accumulate a certain number of points by placing and removing cards from a deck, and then scoring points based on their cards. The game is played by two to four players, and it is a popular choice for family gatherings and social games.</s>\n",
      "\n"
     ]
    }
   ],
   "source": [
    "# 設定 prompt 樣板，方便觀察輸出\n",
    "chat_history = pipe.tokenizer.apply_chat_template(outputs, tokenize=False, add_generation_prompt=False)\n",
    "print(chat_history)"
   ]
  },
  {
   "cell_type": "markdown",
   "metadata": {},
   "source": [
    "RAG\n",
    "\n",
    "![image.png](MarkDownImage\\RAG.png)"
   ]
  },
  {
   "cell_type": "code",
   "execution_count": 15,
   "metadata": {},
   "outputs": [],
   "source": [
    "import os\n",
    "from langchain_huggingface import HuggingFaceEmbeddings\n",
    "from langchain.vectorstores  import Chroma\n",
    "from langchain.prompts import PromptTemplate\n",
    "from langchain_community.document_loaders import PyPDFLoader\n",
    "from langchain_core.prompts import ChatPromptTemplate\n",
    "\n",
    "model_kwargs = {'device': 'cuda'}\n",
    "embedding_model_name = \"sentence-transformers/all-MiniLM-L6-v2\"\n",
    "embedding = HuggingFaceEmbeddings(\n",
    "    model_name=embedding_model_name,\n",
    "    model_kwargs=model_kwargs\n",
    "    )\n",
    "    \n",
    "\n",
    "pdf_folder = \"documents/monopoly\"\n",
    "\n",
    "pdf_files = [f for f in os.listdir(pdf_folder) if f.endswith('.pdf')]\n",
    "\n",
    "documents = []\n",
    "\n",
    "for pdf_file in pdf_files:\n",
    "    document = os.path.join(pdf_folder, pdf_file)\n",
    "    pdf_loader = PyPDFLoader(document)\n",
    "    documents.extend(pdf_loader.load())\n"
   ]
  },
  {
   "cell_type": "code",
   "execution_count": 16,
   "metadata": {},
   "outputs": [],
   "source": [
    "vectordb= Chroma.from_documents(\n",
    "    documents, \n",
    "    embedding,\n",
    "    persist_directory=\"./knowledge-base\"\n",
    ")"
   ]
  },
  {
   "cell_type": "code",
   "execution_count": 17,
   "metadata": {},
   "outputs": [],
   "source": [
    "def retrieve_documents(query, num_results=1):\n",
    "    query_embedding = embedding.embed_query(query)\n",
    "    results = vectordb.similarity_search_by_vector(query_embedding, k=num_results)\n",
    "    retrieved_docs = [result.page_content for result in results]\n",
    "    return retrieved_docs\n",
    "\n",
    "def generate_answer(query, retrieved_docs):\n",
    "    \n",
    "    retrieved_docs_text = \"\\n\".join(retrieved_docs)\n",
    "    \n",
    "    content = f\"\"\"\n",
    "You're a professional assistant\n",
    "Given the following documents, answer the user's question as accurately as possible:\n",
    "\n",
    "Documents:\n",
    "{retrieved_docs_text}\n",
    "\n",
    "Question:\n",
    "{query}\n",
    "\"\"\"\n",
    "    messages = [\n",
    "        {   \"role\": \"system\", \n",
    "            \"content\": content,\n",
    "        }\n",
    "    ]\n",
    "    result = pipe(messages, max_new_tokens=256, do_sample=True, temperature=0.7, top_k=50, top_p=0.95)\n",
    "    outputs = result[0]['generated_text']\n",
    "    \n",
    "    assistant_reply = next((msg[\"content\"] for msg in outputs if msg[\"role\"] == \"assistant\"), \"\")\n",
    "    \n",
    "    return assistant_reply, retrieved_docs_text\n",
    "\n",
    "\n",
    "def process_query(query, num_results=1):\n",
    "\n",
    "    retrieved_docs = retrieve_documents(query, num_results=num_results)\n",
    "    answer, retrieved_docs_text = generate_answer(query, retrieved_docs)\n",
    "    \n",
    "    return answer, retrieved_docs_text\n"
   ]
  },
  {
   "cell_type": "code",
   "execution_count": 18,
   "metadata": {},
   "outputs": [
    {
     "name": "stdout",
     "output_type": "stream",
     "text": [
      "Yes, Monopoly is a popular board game that originated in the United States during the Great Depression. The game involves players buying and trading properties and collecting rent, and players must balance their spending with their savings to become wealthy players.\n"
     ]
    }
   ],
   "source": [
    "query = \"Do you know what is Monopoly?\"\n",
    "answer, retrieved_docs_text = process_query(query)\n",
    "print(answer)"
   ]
  }
 ],
 "metadata": {
  "kernelspec": {
   "display_name": "kuwa",
   "language": "python",
   "name": "python3"
  },
  "language_info": {
   "codemirror_mode": {
    "name": "ipython",
    "version": 3
   },
   "file_extension": ".py",
   "mimetype": "text/x-python",
   "name": "python",
   "nbconvert_exporter": "python",
   "pygments_lexer": "ipython3",
   "version": "3.9.19"
  }
 },
 "nbformat": 4,
 "nbformat_minor": 2
}
